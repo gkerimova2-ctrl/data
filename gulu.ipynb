{
 "cells": [
  {
   "metadata": {},
   "cell_type": "code",
   "outputs": [],
   "execution_count": null,
   "source": "",
   "id": "efce9dedca6114ea"
  },
  {
   "metadata": {},
   "cell_type": "markdown",
   "source": "# Hello Everyone",
   "id": "631d86270b37b1b5"
  },
  {
   "metadata": {},
   "cell_type": "code",
   "outputs": [],
   "execution_count": null,
   "source": "",
   "id": "23cfaf58b7ddcda1"
  },
  {
   "metadata": {},
   "cell_type": "markdown",
   "source": [
    "\n",
    "## Introduction"
   ],
   "id": "3f278e3a1b353532"
  },
  {
   "metadata": {},
   "cell_type": "code",
   "outputs": [],
   "execution_count": null,
   "source": "",
   "id": "1970766a92781972"
  },
  {
   "metadata": {},
   "cell_type": "markdown",
   "source": [
    "## Data science languages\n",
    "**Python** – Widely used for data analysis, machine learning, and visualization.\n",
    "**R** – Popular for statistical analysis and data visualization.\n",
    "**SQL** – Used for querying and managing databases.\n",
    "**Julia** – High-performance language for numerical computing.\n",
    "**Scala** – Often used with big data tools like Apache Spark.\n",
    "**Java** – Used in big data and enterprise applications\n"
   ],
   "id": "4148420b2665e7df"
  },
  {
   "metadata": {},
   "cell_type": "markdown",
   "source": [
    "## Data Science Libraries\n",
    "### Python Libraries\n",
    "**NumPy** – For numerical computing and arrays.\n",
    "**Pandas** – For data manipulation and analysis.\n",
    "**Matplotlib** – For data visualization.\n",
    "**Seaborn** – For statistical data visualization.\n",
    "**Scikit-learn** – For machine learning algorithms.\n",
    "**TensorFlow / PyTorch** – For deep learning and AI models.\n",
    "### R Libraries\n",
    "**ggplot2** – For data visualization.\n",
    "**dplyr** – For data manipulation.\n",
    "**caret** – For machine learning models.\n",
    "**tidyr** – For data tidying.\n",
    "**shiny** – For interactive web applications.\n"
   ],
   "id": "c540d501c2e2e6d8"
  },
  {
   "metadata": {},
   "cell_type": "markdown",
   "source": [
    "## Data Science Tools\n",
    "\n",
    "| Category                  | Tools / Platforms                     |\n",
    "|---------------------------|--------------------------------------|\n",
    "| Programming Languages      | Python, R, SQL, Julia, Scala         |\n",
    "| IDEs / Notebooks           | Jupyter Notebook, JupyterLab, RStudio, VSCode |\n",
    "| Data Visualization         | Matplotlib, Seaborn, ggplot2, Plotly |\n",
    "| Machine Learning / AI      | Scikit-learn, TensorFlow, PyTorch, Keras, caret |\n",
    "| Big Data / Cloud Platforms | Apache Spark, Hadoop, Google Colab, IBM Cloud, AWS |\n",
    "| Data Storage / Databases   | MySQL, PostgreSQL, MongoDB, SQLite   |"
   ],
   "id": "fde18aab7792fc35"
  },
  {
   "metadata": {},
   "cell_type": "markdown",
   "source": [
    "## Arithmetic Expression Examples\n",
    "**Examples of arithmetic operations include:**\n",
    "\n",
    "**Addition:** '5 + 3'\n",
    "\n",
    "**Subtraction:** '10 - 4'\n",
    "\n",
    "**Multiplication:** '6 * 7'\n",
    "\n",
    "**Division:** '20 / 5'\n",
    "\n",
    "**Exponentiation:** '2 ** 3'\n",
    "\n",
    "**Remainder:** '10 % 3'\n"
   ],
   "id": "d52c9848dab0bfde"
  },
  {
   "metadata": {
    "ExecuteTime": {
     "end_time": "2025-10-04T21:39:23.035060Z",
     "start_time": "2025-10-04T21:39:23.027881Z"
    }
   },
   "cell_type": "code",
   "source": [
    "product = 5 * 7\n",
    "print(\"5 multiplied by 7 is:\", product)\n",
    "sum_result = 10 + 15\n",
    "print(\"10 plus 15 is:\", sum_result)"
   ],
   "id": "764f426523697f97",
   "outputs": [
    {
     "name": "stdout",
     "output_type": "stream",
     "text": [
      "5 multiplied by 7 is: 35\n",
      "10 plus 15 is: 25\n"
     ]
    }
   ],
   "execution_count": 12
  },
  {
   "metadata": {
    "ExecuteTime": {
     "end_time": "2025-10-04T21:49:49.357519Z",
     "start_time": "2025-10-04T21:49:49.347897Z"
    }
   },
   "cell_type": "code",
   "source": [
    "def minutes_to_hours(minutes):\n",
    "    hours = minutes / 60\n",
    "    return hours\n",
    "\n",
    "minutes_to_hours(324)"
   ],
   "id": "fb8d9c7c4d692f40",
   "outputs": [
    {
     "data": {
      "text/plain": [
       "5.4"
      ]
     },
     "execution_count": 16,
     "metadata": {},
     "output_type": "execute_result"
    }
   ],
   "execution_count": 16
  },
  {
   "metadata": {},
   "cell_type": "code",
   "outputs": [],
   "execution_count": null,
   "source": "",
   "id": "e1220192e16058b2"
  },
  {
   "metadata": {},
   "cell_type": "markdown",
   "source": [
    "## Objectives\n",
    " Understand the basic concepts of **arithmetic operations** in Python/R.\n",
    "Perform simple calculations like **addition, subtraction, multiplication, and division**.\n",
    "Convert units, such as **minutes to hours**, using Python code.\n",
    "Learn to create and use **functions** for repetitive tasks.\n",
    "Explore and document results using **Markdown cells** for clear reporting."
   ],
   "id": "dc07fd3b4395bb1"
  },
  {
   "metadata": {},
   "cell_type": "markdown",
   "source": [
    "## Author\n",
    "**Name:** Gülnar Kərimova"
   ],
   "id": "6f51e162e4646b27"
  },
  {
   "metadata": {},
   "cell_type": "code",
   "outputs": [],
   "execution_count": null,
   "source": "",
   "id": "a99c307c351f6479"
  }
 ],
 "metadata": {
  "kernelspec": {
   "display_name": "Python 3",
   "language": "python",
   "name": "python3"
  },
  "language_info": {
   "codemirror_mode": {
    "name": "ipython",
    "version": 2
   },
   "file_extension": ".py",
   "mimetype": "text/x-python",
   "name": "python",
   "nbconvert_exporter": "python",
   "pygments_lexer": "ipython2",
   "version": "2.7.6"
  }
 },
 "nbformat": 4,
 "nbformat_minor": 5
}
